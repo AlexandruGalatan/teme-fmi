{
 "cells": [
  {
   "cell_type": "markdown",
   "metadata": {},
   "source": [
    "# Generarea digitală a muzicii"
   ]
  },
  {
   "cell_type": "markdown",
   "metadata": {},
   "source": [
    "## Biblioteci"
   ]
  },
  {
   "cell_type": "code",
   "execution_count": 47,
   "metadata": {},
   "outputs": [],
   "source": [
    "# Pentru operațiuni numerice pe vectori\n",
    "import numpy as np\n",
    "# Pentru afișarea grafică a semnalului generat\n",
    "import matplotlib.pyplot as plt\n",
    "# Pentru a reda semnalul audio\n",
    "import sounddevice as sd"
   ]
  },
  {
   "cell_type": "markdown",
   "metadata": {},
   "source": [
    "## Parametrii configurabili"
   ]
  },
  {
   "cell_type": "code",
   "execution_count": 48,
   "metadata": {},
   "outputs": [],
   "source": [
    "# Rata de eșantionare\n",
    "SAMPLING_RATE = 44100\n",
    "\n",
    "# Amplitudinea semnalelor generate\n",
    "AMPLITUDE = 10000\n",
    "\n",
    "# Durata unei note întregi (poate modifica BPM-ul melodiei)\n",
    "FULL_NOTE = 2"
   ]
  },
  {
   "cell_type": "markdown",
   "metadata": {},
   "source": [
    "## Generator de tonuri\n",
    "\n",
    "Melodiile pe care le voi compune sunt formate din mai multe tonuri, fiecare având o anumită notă muzicală asociată (o frecvență) și o durată (pătrime, doime, notă întreagă).\n",
    "\n",
    "Am folosit o undă în formă de fierăstrău în loc de una sinusoidală, pentru că (subiectiv) sună mai bine."
   ]
  },
  {
   "cell_type": "code",
   "execution_count": 49,
   "metadata": {},
   "outputs": [
    {
     "data": {
      "image/png": "[encoded data removed]",
      "text/plain": [
       "<Figure size 432x288 with 1 Axes>"
      ]
     },
     "metadata": {
      "needs_background": "light"
     },
     "output_type": "display_data"
    }
   ],
   "source": [
    "def sine(frequency, time):\n",
    "    \"Undă sinusoidală\"\n",
    "    return np.sin(frequency * time)\n",
    "\n",
    "def sawtooth(frequency, time):\n",
    "    \"Undă în formă de dinți de fierăstrău\"\n",
    "    x = frequency * time\n",
    "    return x - np.floor(x) - 1/2\n",
    "\n",
    "# Dicționar care mapează numele notelor în frecvențe\n",
    "frequencies = {}\n",
    "\n",
    "def generate_tone(frequency, duration):\n",
    "    \"Generează un ton pur de frecvență dată, pentru durata cerută\"\n",
    "\n",
    "    n_samples = duration * SAMPLING_RATE\n",
    "    time = np.linspace(0, duration, int(n_samples + 1))\n",
    "\n",
    "    return AMPLITUDE * sawtooth(frequency, time)\n",
    "\n",
    "def concat_tones(tones):\n",
    "    \"Concatenează mai multe tonuri pentru a obține o melodie mai lungă\"\n",
    "    return np.concatenate(tones)\n",
    "\n",
    "def generate_song(notes):\n",
    "    \"Generează o melodie pornind de la o listă de note și durate\"\n",
    "    tones = [\n",
    "        generate_tone(frequencies[name], FULL_NOTE * 1/d)\n",
    "        for (name, d)\n",
    "        in notes\n",
    "    ]\n",
    "    return concat_tones(tones)\n",
    "\n",
    "\n",
    "plt.xlabel(\"Timp\")\n",
    "plt.ylabel(\"Intensitate\")\n",
    "plt.plot(generate_tone(440, 0.01))\n",
    "plt.show()"
   ]
  },
  {
   "cell_type": "markdown",
   "metadata": {},
   "source": [
    "## Note muzicale"
   ]
  },
  {
   "cell_type": "markdown",
   "metadata": {},
   "source": [
    "În sistemul occidental de notație muzicală, avem 12 note distincte într-o scară.\n",
    "\n",
    "La fiecare octavă, notele își dublează frecvența."
   ]
  },
  {
   "cell_type": "code",
   "execution_count": 50,
   "metadata": {},
   "outputs": [],
   "source": [
    "OCTAVE_RATIO = 2\n",
    "SEMITONE_RATIO = OCTAVE_RATIO ** (1/12)\n",
    "TONE_RATIO = SEMITONE_RATIO * SEMITONE_RATIO"
   ]
  },
  {
   "cell_type": "markdown",
   "metadata": {},
   "source": [
    "În sistemul standard, nota La este mapată la frecvența 440 Hz, iar toate celelalte note se pot calcula în raport cu ea."
   ]
  },
  {
   "cell_type": "code",
   "execution_count": 51,
   "metadata": {},
   "outputs": [],
   "source": [
    "# Frecvența de bază\n",
    "frequencies['A4'] = 440\n",
    "# P reprezintă o pauză\n",
    "frequencies['P'] = 0\n",
    "\n",
    "\n",
    "def generate_octave(index):\n",
    "    \"Generează cele 12 note distincte, plecând de la Do pentru octava dată.\"\n",
    "    index = str(index)\n",
    "    frequencies['CS' + index] = frequencies['C' + index] * SEMITONE_RATIO\n",
    "    frequencies['D' + index] = frequencies['C' + index] * TONE_RATIO\n",
    "    frequencies['E' + index] = frequencies['D' + index] * TONE_RATIO\n",
    "    frequencies['F' + index] = frequencies['E' + index] * SEMITONE_RATIO\n",
    "    frequencies['FS' + index] = frequencies['F' + index] * SEMITONE_RATIO\n",
    "    frequencies['G' + index] = frequencies['F' + index] * TONE_RATIO\n",
    "    frequencies['GS' + index] = frequencies['G' + index] * SEMITONE_RATIO\n",
    "    frequencies['A' + index] = frequencies['G' + index] * TONE_RATIO\n",
    "    frequencies['B' + index] = frequencies['A' + index] * TONE_RATIO\n",
    "\n",
    "# Urc câteva note ca să ajung la următorul Do\n",
    "frequencies['C5'] = frequencies['A4'] * TONE_RATIO * SEMITONE_RATIO\n",
    "frequencies['C6'] = frequencies['C5'] * OCTAVE_RATIO\n",
    "frequencies['C4'] = frequencies['C5'] / OCTAVE_RATIO\n",
    "frequencies['C3'] = frequencies['C4'] / OCTAVE_RATIO\n",
    "frequencies['C2'] = frequencies['C3'] / OCTAVE_RATIO\n",
    "\n",
    "# Generez octavele folosind notele Do\n",
    "for i in range(2, 7):\n",
    "    generate_octave(i)"
   ]
  },
  {
   "cell_type": "markdown",
   "metadata": {},
   "source": [
    "## Redare audio\n",
    "\n",
    "Biblioteca `sounddevice` permite redarea unui semnal audio (reținut ca un vector de eșantioane) prin sistemul audio al calculatorului."
   ]
  },
  {
   "cell_type": "code",
   "execution_count": 52,
   "metadata": {},
   "outputs": [],
   "source": [
    "sd.default.samplerate = SAMPLING_RATE\n",
    "\n",
    "def play_song(song):\n",
    "    wav_wave = np.array(song, dtype=np.int16)\n",
    "    sd.play(wav_wave, blocking=True)\n",
    "    sd.stop()"
   ]
  },
  {
   "cell_type": "markdown",
   "metadata": {},
   "source": [
    "## Melodie clasică (Canon in D)\n",
    "\n",
    "Pentru exercițiul 2 am pus câteva note din [Canon in D de Pachelbel](https://en.wikipedia.org/wiki/Pachelbel%27s_Canon). Notele sunt luate din [această transpunere](https://github.com/robsoncouto/arduino-songs/blob/master/cannonind/cannonind.ino)."
   ]
  },
  {
   "cell_type": "code",
   "execution_count": 56,
   "metadata": {},
   "outputs": [],
   "source": [
    "notes = [\n",
    "    ('FS4', 2), ('E4', 2),\n",
    "    ('D4', 2), ('CS4', 2),\n",
    "    ('B3', 2), ('A3', 2),\n",
    "    ('B3', 2), ('CS4', 2),\n",
    "    ('FS4', 2), ('E4', 2),\n",
    "    ('D4', 2), ('CS4', 2),\n",
    "    ('B3', 2), ('A3', 2),\n",
    "]\n",
    "\n",
    "canon_in_d = generate_song(notes)\n",
    "play_song(canon_in_d)"
   ]
  },
  {
   "cell_type": "markdown",
   "metadata": {},
   "source": [
    "# Partitură citită din fișier\n",
    "\n",
    "## Format\n",
    "\n",
    "Formatul ales este unul custom, fișierul trebuie să aibă următoarea structură:\n",
    "```python\n",
    "# Comentarii\n",
    "\n",
    "A4 4 # note și durata lor (1 = notă întreagă, 2 = doime, 4 = pătrime)\n",
    "\n",
    "P 1 # pauze și durata lor\n",
    "```"
   ]
  },
  {
   "cell_type": "markdown",
   "metadata": {},
   "source": [
    "## Citire și generare melodie pe baza partiturii"
   ]
  },
  {
   "cell_type": "code",
   "execution_count": 57,
   "metadata": {},
   "outputs": [],
   "source": [
    "def load_song(fname):\n",
    "    \"Încarcă o partitură din fișierul dat ca parametru\"\n",
    "\n",
    "    # Parsez fișierul\n",
    "    dtypes = [\n",
    "        ('note', 'S3'),\n",
    "        ('duration', int),\n",
    "    ]\n",
    "    data = np.genfromtxt(fname, dtype=dtypes, comments='#', delimiter=' ')\n",
    "\n",
    "    # Transform notele din bytestring în string-uri\n",
    "    notes = [\n",
    "        (note.decode(), duration)\n",
    "        for (note, duration)\n",
    "        in data\n",
    "    ]\n",
    "    \n",
    "    # Generez semnalul audio\n",
    "    return generate_song(notes)\n",
    "\n",
    "# Încarc o melodie de pe disc\n",
    "song = load_song(\"partitura.txt\")\n",
    "play_song(song)"
   ]
  },
  {
   "cell_type": "code",
   "execution_count": null,
   "metadata": {},
   "outputs": [],
   "source": []
  }
 ],
 "metadata": {
  "kernelspec": {
   "display_name": "Python 3",
   "language": "python",
   "name": "python3"
  },
  "language_info": {
   "codemirror_mode": {
    "name": "ipython",
    "version": 3
   },
   "file_extension": ".py",
   "mimetype": "text/x-python",
   "name": "python",
   "nbconvert_exporter": "python",
   "pygments_lexer": "ipython3",
   "version": "3.8.3"
  }
 },
 "nbformat": 4,
 "nbformat_minor": 4
}
